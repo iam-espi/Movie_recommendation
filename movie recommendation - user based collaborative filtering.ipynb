{
 "cells": [
  {
   "cell_type": "markdown",
   "id": "a9b85b5a-46ad-4180-8844-e5591ba53e85",
   "metadata": {},
   "source": [
    "# Movie Recommendations using Collaborative Filtering with Surprise\n",
    "\n",
    "\n",
    "## Project Scope\n",
    "\n",
    "The objective is to demonstrate the build of a simple movie recommendation system using Python with the help of Simple Python RecommendatIon System Engine (**Surprise**).\n",
    "\n",
    "## Dataset\n",
    "\n",
    "As per recommendation from [**MovieLens**](https://grouplens.org/datasets/movielens/), for education and development purpose, [MovieLens Latest Datasets](https://grouplens.org/datasets/movielens/latest/) is selected. The small dataset has been chosen so that the workload can be run on normal laptop without GPU. \n",
    "\n",
    "The small dataset contains approximately 100,000 ratings and 3,600 tag applications applied to 9,000 movies by 600 users. It was last updated in September 2018.\n",
    "\n",
    "## Introduction to Surprise\n",
    "\n",
    "[**Surprise**](https://surpriselib.com/) is a Python scikit for building and analyzing recommendation systems that deal with explicit rating data.\n",
    "\n",
    "It provides various ready-to-use prediction models. And it provides tools to evaluate and analyze the models' performance. \n",
    "\n"
   ]
  },
  {
   "cell_type": "markdown",
   "id": "411e21bd-022f-46ac-9f07-99d249b15327",
   "metadata": {},
   "source": [
    "## Table of Content\n",
    "\n",
    "1. [Import libraries](#section_1)\n",
    "2. [Import Datasets](#section_2)\n",
    "3. [Exploration](#section_3)\n",
    "4. [Cross Validation](#section_4)\n",
    "5. [Hyperparameter Tuning](#section_5)\n",
    "6. [Preparing for inference](#section_6)\n",
    "7. [Create Gradio Interface](#section_7)\n",
    "8. [Conclusion](#section_8)\n"
   ]
  },
  {
   "cell_type": "markdown",
   "id": "98734062-56e0-4d8d-a0da-e99c21777d68",
   "metadata": {},
   "source": [
    "---\n",
    "\n",
    "## 1. <a id='section_1'>Import libraries</a>"
   ]
  },
  {
   "cell_type": "code",
   "execution_count": 5,
   "id": "a09393c2-a1e1-465a-b266-f2ad847c4cf9",
   "metadata": {},
   "outputs": [],
   "source": [
    "# load the necessary libraries\n",
    "import pandas as pd\n",
    "import numpy as np\n",
    "import matplotlib.pyplot as plt\n",
    "import seaborn as sns\n",
    "\n",
    "from surprise import Dataset, Reader # pass data to surprise\n",
    "from surprise.model_selection import cross_validate, KFold # for cross validation\n",
    "from surprise import SVD, NMF, KNNBasic, KNNBaseline # algorithms to be evaluated\n",
    "from surprise.model_selection import GridSearchCV # for hyperparameter tuning\n",
    "\n",
    "from tabulate import tabulate # format tabular data into a clean and readable table format\n",
    "import datetime\n",
    "import time\n",
    "\n",
    "# create dictionary that provides a default value for keys that don't exist to avoid KeyError exceptions\n",
    "from collections import defaultdict\n",
    "\n",
    "import gradio as gr # user interface for inference\n",
    "\n",
    "# ignore warnings that may appear\n",
    "import warnings \n",
    "warnings.simplefilter(action='ignore', category=FutureWarning)"
   ]
  },
  {
   "cell_type": "markdown",
   "id": "7ef1d014-3d1d-40c9-9b53-302f0b11af33",
   "metadata": {},
   "source": [
    "Surpise may require installation if not already presence. It can be installed by running: *\"!pip install scikit-surprise\"*.\n",
    "\n",
    "Similarly Gradio may require installation. It can be installed by running: *\"!pip install gradio\"*.\n"
   ]
  },
  {
   "cell_type": "markdown",
   "id": "e039273a-71e3-40be-9dec-f6d0cf1b3565",
   "metadata": {},
   "source": [
    "---\n",
    "## 2. <a id='section_2'>Import Datasets</a>"
   ]
  },
  {
   "cell_type": "code",
   "execution_count": 8,
   "id": "5128e9d9-b3fd-4601-b49d-12c4e2a480b2",
   "metadata": {},
   "outputs": [],
   "source": [
    "# load the MovieLens datasets\n",
    "ratings_df = pd.read_csv('ratings.csv') # contains movie ratings from users\n",
    "movies_df = pd.read_csv('movies.csv') # contain movie ID and assocaited title"
   ]
  },
  {
   "cell_type": "code",
   "execution_count": 9,
   "id": "a8703d6c-0351-4f32-9922-f49964fcee71",
   "metadata": {},
   "outputs": [
    {
     "data": {
      "text/plain": [
       "(100836, 4)"
      ]
     },
     "execution_count": 9,
     "metadata": {},
     "output_type": "execute_result"
    }
   ],
   "source": [
    "# check the number the rows and columns in the dataframe\n",
    "ratings_df.shape"
   ]
  },
  {
   "cell_type": "markdown",
   "id": "5a83958a-58ae-4e2c-95b4-ae0c7a390194",
   "metadata": {},
   "source": [
    "There are 100,836 entries in the ratings dataset."
   ]
  },
  {
   "cell_type": "code",
   "execution_count": 11,
   "id": "22f1ffd8-ff35-4782-9ac4-967623c6b641",
   "metadata": {},
   "outputs": [
    {
     "data": {
      "text/plain": [
       "0"
      ]
     },
     "execution_count": 11,
     "metadata": {},
     "output_type": "execute_result"
    }
   ],
   "source": [
    "# confirm there is no null values\n",
    "ratings_df.isnull().sum().sum()"
   ]
  },
  {
   "cell_type": "markdown",
   "id": "9c63737e-917c-48e8-ae60-396d77d30710",
   "metadata": {},
   "source": [
    "There is no null value in the ratings dataset. "
   ]
  },
  {
   "cell_type": "code",
   "execution_count": 13,
   "id": "4504fd2b-710e-4ade-a87a-520bc57f95c8",
   "metadata": {},
   "outputs": [
    {
     "data": {
      "text/html": [
       "<div>\n",
       "<style scoped>\n",
       "    .dataframe tbody tr th:only-of-type {\n",
       "        vertical-align: middle;\n",
       "    }\n",
       "\n",
       "    .dataframe tbody tr th {\n",
       "        vertical-align: top;\n",
       "    }\n",
       "\n",
       "    .dataframe thead th {\n",
       "        text-align: right;\n",
       "    }\n",
       "</style>\n",
       "<table border=\"1\" class=\"dataframe\">\n",
       "  <thead>\n",
       "    <tr style=\"text-align: right;\">\n",
       "      <th></th>\n",
       "      <th>userId</th>\n",
       "      <th>movieId</th>\n",
       "      <th>rating</th>\n",
       "      <th>timestamp</th>\n",
       "    </tr>\n",
       "  </thead>\n",
       "  <tbody>\n",
       "    <tr>\n",
       "      <th>0</th>\n",
       "      <td>1</td>\n",
       "      <td>1</td>\n",
       "      <td>4.0</td>\n",
       "      <td>964982703</td>\n",
       "    </tr>\n",
       "    <tr>\n",
       "      <th>1</th>\n",
       "      <td>1</td>\n",
       "      <td>3</td>\n",
       "      <td>4.0</td>\n",
       "      <td>964981247</td>\n",
       "    </tr>\n",
       "    <tr>\n",
       "      <th>2</th>\n",
       "      <td>1</td>\n",
       "      <td>6</td>\n",
       "      <td>4.0</td>\n",
       "      <td>964982224</td>\n",
       "    </tr>\n",
       "    <tr>\n",
       "      <th>3</th>\n",
       "      <td>1</td>\n",
       "      <td>47</td>\n",
       "      <td>5.0</td>\n",
       "      <td>964983815</td>\n",
       "    </tr>\n",
       "    <tr>\n",
       "      <th>4</th>\n",
       "      <td>1</td>\n",
       "      <td>50</td>\n",
       "      <td>5.0</td>\n",
       "      <td>964982931</td>\n",
       "    </tr>\n",
       "  </tbody>\n",
       "</table>\n",
       "</div>"
      ],
      "text/plain": [
       "   userId  movieId  rating  timestamp\n",
       "0       1        1     4.0  964982703\n",
       "1       1        3     4.0  964981247\n",
       "2       1        6     4.0  964982224\n",
       "3       1       47     5.0  964983815\n",
       "4       1       50     5.0  964982931"
      ]
     },
     "execution_count": 13,
     "metadata": {},
     "output_type": "execute_result"
    }
   ],
   "source": [
    "# check first few rows of dataset\n",
    "ratings_df.head()"
   ]
  },
  {
   "cell_type": "markdown",
   "id": "78be068c-617e-4dff-a0e8-80ceaa0907f6",
   "metadata": {},
   "source": [
    "There are 4 columns in the ratngs dataset. "
   ]
  },
  {
   "cell_type": "code",
   "execution_count": 15,
   "id": "11318012-6841-45b7-bc8d-6a98998143ce",
   "metadata": {},
   "outputs": [
    {
     "data": {
      "text/plain": [
       "(9742, 3)"
      ]
     },
     "execution_count": 15,
     "metadata": {},
     "output_type": "execute_result"
    }
   ],
   "source": [
    "# check the number the rows and columns in the dataframe\n",
    "movies_df.shape"
   ]
  },
  {
   "cell_type": "markdown",
   "id": "b443169b-b9dc-4ced-9fef-b6d2eda86f01",
   "metadata": {},
   "source": [
    "There are 9,742 entries in the movies dataset. "
   ]
  },
  {
   "cell_type": "code",
   "execution_count": 17,
   "id": "7839004b-2ef5-4005-b7f4-24041bd764ed",
   "metadata": {},
   "outputs": [
    {
     "data": {
      "text/plain": [
       "0"
      ]
     },
     "execution_count": 17,
     "metadata": {},
     "output_type": "execute_result"
    }
   ],
   "source": [
    "# confirm there is no null values\n",
    "movies_df.isnull().sum().sum()"
   ]
  },
  {
   "cell_type": "markdown",
   "id": "a01d9c22-14a7-4b86-97dd-b5ee0e01c89e",
   "metadata": {},
   "source": [
    "There is no null value in the movies datatset."
   ]
  },
  {
   "cell_type": "code",
   "execution_count": 19,
   "id": "8d730c2b-9d3f-4e31-92af-0d016964aae7",
   "metadata": {},
   "outputs": [
    {
     "data": {
      "text/html": [
       "<div>\n",
       "<style scoped>\n",
       "    .dataframe tbody tr th:only-of-type {\n",
       "        vertical-align: middle;\n",
       "    }\n",
       "\n",
       "    .dataframe tbody tr th {\n",
       "        vertical-align: top;\n",
       "    }\n",
       "\n",
       "    .dataframe thead th {\n",
       "        text-align: right;\n",
       "    }\n",
       "</style>\n",
       "<table border=\"1\" class=\"dataframe\">\n",
       "  <thead>\n",
       "    <tr style=\"text-align: right;\">\n",
       "      <th></th>\n",
       "      <th>movieId</th>\n",
       "      <th>title</th>\n",
       "      <th>genres</th>\n",
       "    </tr>\n",
       "  </thead>\n",
       "  <tbody>\n",
       "    <tr>\n",
       "      <th>0</th>\n",
       "      <td>1</td>\n",
       "      <td>Toy Story (1995)</td>\n",
       "      <td>Adventure|Animation|Children|Comedy|Fantasy</td>\n",
       "    </tr>\n",
       "    <tr>\n",
       "      <th>1</th>\n",
       "      <td>2</td>\n",
       "      <td>Jumanji (1995)</td>\n",
       "      <td>Adventure|Children|Fantasy</td>\n",
       "    </tr>\n",
       "    <tr>\n",
       "      <th>2</th>\n",
       "      <td>3</td>\n",
       "      <td>Grumpier Old Men (1995)</td>\n",
       "      <td>Comedy|Romance</td>\n",
       "    </tr>\n",
       "    <tr>\n",
       "      <th>3</th>\n",
       "      <td>4</td>\n",
       "      <td>Waiting to Exhale (1995)</td>\n",
       "      <td>Comedy|Drama|Romance</td>\n",
       "    </tr>\n",
       "    <tr>\n",
       "      <th>4</th>\n",
       "      <td>5</td>\n",
       "      <td>Father of the Bride Part II (1995)</td>\n",
       "      <td>Comedy</td>\n",
       "    </tr>\n",
       "  </tbody>\n",
       "</table>\n",
       "</div>"
      ],
      "text/plain": [
       "   movieId                               title  \\\n",
       "0        1                    Toy Story (1995)   \n",
       "1        2                      Jumanji (1995)   \n",
       "2        3             Grumpier Old Men (1995)   \n",
       "3        4            Waiting to Exhale (1995)   \n",
       "4        5  Father of the Bride Part II (1995)   \n",
       "\n",
       "                                        genres  \n",
       "0  Adventure|Animation|Children|Comedy|Fantasy  \n",
       "1                   Adventure|Children|Fantasy  \n",
       "2                               Comedy|Romance  \n",
       "3                         Comedy|Drama|Romance  \n",
       "4                                       Comedy  "
      ]
     },
     "execution_count": 19,
     "metadata": {},
     "output_type": "execute_result"
    }
   ],
   "source": [
    "# check first few rows of dataset\n",
    "movies_df.head()"
   ]
  },
  {
   "cell_type": "markdown",
   "id": "bfb6ec1f-c09a-4830-995c-0b075c23d20d",
   "metadata": {},
   "source": [
    "There are 3 columns in the movies dataset. "
   ]
  },
  {
   "cell_type": "code",
   "execution_count": 21,
   "id": "4ea3837d-69d2-4c68-ba85-ccaf31f04d66",
   "metadata": {},
   "outputs": [],
   "source": [
    "# merge the datasets, prepare for use with Surprise\n",
    "dataset = pd.merge(ratings_df, movies_df, on='movieId')\n",
    "\n",
    "# use the Surprise built-in Reader class and Dataset module to parse the data.\n",
    "reader = Reader()\n",
    "\n",
    "# load data from dataset\n",
    "data = Dataset.load_from_df(dataset[['userId', 'movieId', 'rating']], reader)"
   ]
  },
  {
   "cell_type": "markdown",
   "id": "5bd86dce-7e1e-432f-aaaa-dce6093db142",
   "metadata": {},
   "source": [
    "Merged datasets from ratings and movies is loaded for use with Surprise. "
   ]
  },
  {
   "cell_type": "markdown",
   "id": "2634176b-4a6f-4602-9f8c-5d1dd2aa3765",
   "metadata": {},
   "source": [
    "---\n",
    "## 3. <a id='section_3'>Exploration</a>"
   ]
  },
  {
   "cell_type": "code",
   "execution_count": 24,
   "id": "ed54d2b0-73cd-45ef-b9ec-fd7c3b3e7a19",
   "metadata": {},
   "outputs": [
    {
     "data": {
      "text/plain": [
       "(100836, 6)"
      ]
     },
     "execution_count": 24,
     "metadata": {},
     "output_type": "execute_result"
    }
   ],
   "source": [
    "# check the number the rows and columns in the dataframe\n",
    "dataset.shape"
   ]
  },
  {
   "cell_type": "markdown",
   "id": "9facc7aa-c052-4f1a-b8e1-e350073b0676",
   "metadata": {},
   "source": [
    "The merged dataset has 100,836 entries with 6 columns. "
   ]
  },
  {
   "cell_type": "code",
   "execution_count": 26,
   "id": "b9371315-fbc2-41d9-929f-5ad83d77e455",
   "metadata": {},
   "outputs": [
    {
     "data": {
      "text/html": [
       "<div>\n",
       "<style scoped>\n",
       "    .dataframe tbody tr th:only-of-type {\n",
       "        vertical-align: middle;\n",
       "    }\n",
       "\n",
       "    .dataframe tbody tr th {\n",
       "        vertical-align: top;\n",
       "    }\n",
       "\n",
       "    .dataframe thead th {\n",
       "        text-align: right;\n",
       "    }\n",
       "</style>\n",
       "<table border=\"1\" class=\"dataframe\">\n",
       "  <thead>\n",
       "    <tr style=\"text-align: right;\">\n",
       "      <th></th>\n",
       "      <th>userId</th>\n",
       "      <th>movieId</th>\n",
       "      <th>rating</th>\n",
       "      <th>timestamp</th>\n",
       "      <th>title</th>\n",
       "      <th>genres</th>\n",
       "    </tr>\n",
       "  </thead>\n",
       "  <tbody>\n",
       "    <tr>\n",
       "      <th>0</th>\n",
       "      <td>1</td>\n",
       "      <td>1</td>\n",
       "      <td>4.0</td>\n",
       "      <td>964982703</td>\n",
       "      <td>Toy Story (1995)</td>\n",
       "      <td>Adventure|Animation|Children|Comedy|Fantasy</td>\n",
       "    </tr>\n",
       "    <tr>\n",
       "      <th>1</th>\n",
       "      <td>5</td>\n",
       "      <td>1</td>\n",
       "      <td>4.0</td>\n",
       "      <td>847434962</td>\n",
       "      <td>Toy Story (1995)</td>\n",
       "      <td>Adventure|Animation|Children|Comedy|Fantasy</td>\n",
       "    </tr>\n",
       "    <tr>\n",
       "      <th>2</th>\n",
       "      <td>7</td>\n",
       "      <td>1</td>\n",
       "      <td>4.5</td>\n",
       "      <td>1106635946</td>\n",
       "      <td>Toy Story (1995)</td>\n",
       "      <td>Adventure|Animation|Children|Comedy|Fantasy</td>\n",
       "    </tr>\n",
       "    <tr>\n",
       "      <th>3</th>\n",
       "      <td>15</td>\n",
       "      <td>1</td>\n",
       "      <td>2.5</td>\n",
       "      <td>1510577970</td>\n",
       "      <td>Toy Story (1995)</td>\n",
       "      <td>Adventure|Animation|Children|Comedy|Fantasy</td>\n",
       "    </tr>\n",
       "    <tr>\n",
       "      <th>4</th>\n",
       "      <td>17</td>\n",
       "      <td>1</td>\n",
       "      <td>4.5</td>\n",
       "      <td>1305696483</td>\n",
       "      <td>Toy Story (1995)</td>\n",
       "      <td>Adventure|Animation|Children|Comedy|Fantasy</td>\n",
       "    </tr>\n",
       "  </tbody>\n",
       "</table>\n",
       "</div>"
      ],
      "text/plain": [
       "   userId  movieId  rating   timestamp             title  \\\n",
       "0       1        1     4.0   964982703  Toy Story (1995)   \n",
       "1       5        1     4.0   847434962  Toy Story (1995)   \n",
       "2       7        1     4.5  1106635946  Toy Story (1995)   \n",
       "3      15        1     2.5  1510577970  Toy Story (1995)   \n",
       "4      17        1     4.5  1305696483  Toy Story (1995)   \n",
       "\n",
       "                                        genres  \n",
       "0  Adventure|Animation|Children|Comedy|Fantasy  \n",
       "1  Adventure|Animation|Children|Comedy|Fantasy  \n",
       "2  Adventure|Animation|Children|Comedy|Fantasy  \n",
       "3  Adventure|Animation|Children|Comedy|Fantasy  \n",
       "4  Adventure|Animation|Children|Comedy|Fantasy  "
      ]
     },
     "execution_count": 26,
     "metadata": {},
     "output_type": "execute_result"
    }
   ],
   "source": [
    "dataset.head()"
   ]
  },
  {
   "cell_type": "code",
   "execution_count": 27,
   "id": "d3ee769e-d2ba-42bf-8651-a836b3087aa1",
   "metadata": {},
   "outputs": [
    {
     "data": {
      "text/html": [
       "<div>\n",
       "<style scoped>\n",
       "    .dataframe tbody tr th:only-of-type {\n",
       "        vertical-align: middle;\n",
       "    }\n",
       "\n",
       "    .dataframe tbody tr th {\n",
       "        vertical-align: top;\n",
       "    }\n",
       "\n",
       "    .dataframe thead th {\n",
       "        text-align: right;\n",
       "    }\n",
       "</style>\n",
       "<table border=\"1\" class=\"dataframe\">\n",
       "  <thead>\n",
       "    <tr style=\"text-align: right;\">\n",
       "      <th></th>\n",
       "      <th>userId</th>\n",
       "      <th>movieId</th>\n",
       "      <th>rating</th>\n",
       "      <th>timestamp</th>\n",
       "    </tr>\n",
       "  </thead>\n",
       "  <tbody>\n",
       "    <tr>\n",
       "      <th>count</th>\n",
       "      <td>100836.000000</td>\n",
       "      <td>100836.000000</td>\n",
       "      <td>100836.000000</td>\n",
       "      <td>1.008360e+05</td>\n",
       "    </tr>\n",
       "    <tr>\n",
       "      <th>mean</th>\n",
       "      <td>326.127564</td>\n",
       "      <td>19435.295718</td>\n",
       "      <td>3.501557</td>\n",
       "      <td>1.205946e+09</td>\n",
       "    </tr>\n",
       "    <tr>\n",
       "      <th>std</th>\n",
       "      <td>182.618491</td>\n",
       "      <td>35530.987199</td>\n",
       "      <td>1.042529</td>\n",
       "      <td>2.162610e+08</td>\n",
       "    </tr>\n",
       "    <tr>\n",
       "      <th>min</th>\n",
       "      <td>1.000000</td>\n",
       "      <td>1.000000</td>\n",
       "      <td>0.500000</td>\n",
       "      <td>8.281246e+08</td>\n",
       "    </tr>\n",
       "    <tr>\n",
       "      <th>25%</th>\n",
       "      <td>177.000000</td>\n",
       "      <td>1199.000000</td>\n",
       "      <td>3.000000</td>\n",
       "      <td>1.019124e+09</td>\n",
       "    </tr>\n",
       "    <tr>\n",
       "      <th>50%</th>\n",
       "      <td>325.000000</td>\n",
       "      <td>2991.000000</td>\n",
       "      <td>3.500000</td>\n",
       "      <td>1.186087e+09</td>\n",
       "    </tr>\n",
       "    <tr>\n",
       "      <th>75%</th>\n",
       "      <td>477.000000</td>\n",
       "      <td>8122.000000</td>\n",
       "      <td>4.000000</td>\n",
       "      <td>1.435994e+09</td>\n",
       "    </tr>\n",
       "    <tr>\n",
       "      <th>max</th>\n",
       "      <td>610.000000</td>\n",
       "      <td>193609.000000</td>\n",
       "      <td>5.000000</td>\n",
       "      <td>1.537799e+09</td>\n",
       "    </tr>\n",
       "  </tbody>\n",
       "</table>\n",
       "</div>"
      ],
      "text/plain": [
       "              userId        movieId         rating     timestamp\n",
       "count  100836.000000  100836.000000  100836.000000  1.008360e+05\n",
       "mean      326.127564   19435.295718       3.501557  1.205946e+09\n",
       "std       182.618491   35530.987199       1.042529  2.162610e+08\n",
       "min         1.000000       1.000000       0.500000  8.281246e+08\n",
       "25%       177.000000    1199.000000       3.000000  1.019124e+09\n",
       "50%       325.000000    2991.000000       3.500000  1.186087e+09\n",
       "75%       477.000000    8122.000000       4.000000  1.435994e+09\n",
       "max       610.000000  193609.000000       5.000000  1.537799e+09"
      ]
     },
     "execution_count": 27,
     "metadata": {},
     "output_type": "execute_result"
    }
   ],
   "source": [
    "dataset.describe()"
   ]
  },
  {
   "cell_type": "code",
   "execution_count": 28,
   "id": "b88d964c-0446-4cc7-92da-e97d6d71df79",
   "metadata": {},
   "outputs": [
    {
     "data": {
      "text/plain": [
       "414    2698\n",
       "599    2478\n",
       "474    2108\n",
       "448    1864\n",
       "274    1346\n",
       "       ... \n",
       "431      20\n",
       "194      20\n",
       "257      20\n",
       "207      20\n",
       "189      20\n",
       "Name: userId, Length: 610, dtype: int64"
      ]
     },
     "execution_count": 28,
     "metadata": {},
     "output_type": "execute_result"
    }
   ],
   "source": [
    "dataset['userId'].value_counts()"
   ]
  },
  {
   "cell_type": "markdown",
   "id": "3fee2770-da45-4f80-83e4-1878f5e5682c",
   "metadata": {},
   "source": [
    "There are 610 unique user IDs. "
   ]
  },
  {
   "cell_type": "code",
   "execution_count": 30,
   "id": "6a349ed3-03be-491a-a619-af5ea00ce1e1",
   "metadata": {},
   "outputs": [
    {
     "data": {
      "text/plain": [
       "4.0    26818\n",
       "3.0    20047\n",
       "5.0    13211\n",
       "3.5    13136\n",
       "4.5     8551\n",
       "2.0     7551\n",
       "2.5     5550\n",
       "1.0     2811\n",
       "1.5     1791\n",
       "0.5     1370\n",
       "Name: rating, dtype: int64"
      ]
     },
     "execution_count": 30,
     "metadata": {},
     "output_type": "execute_result"
    }
   ],
   "source": [
    "dataset['rating'].value_counts()"
   ]
  },
  {
   "cell_type": "code",
   "execution_count": 31,
   "id": "a16829de-0485-475f-bd84-0c65697f0e95",
   "metadata": {},
   "outputs": [
    {
     "data": {
      "text/plain": [
       "356       329\n",
       "318       317\n",
       "296       307\n",
       "593       279\n",
       "2571      278\n",
       "         ... \n",
       "86279       1\n",
       "86922       1\n",
       "5962        1\n",
       "87660       1\n",
       "163981      1\n",
       "Name: movieId, Length: 9724, dtype: int64"
      ]
     },
     "execution_count": 31,
     "metadata": {},
     "output_type": "execute_result"
    }
   ],
   "source": [
    "dataset['movieId'].value_counts()"
   ]
  },
  {
   "cell_type": "markdown",
   "id": "31c4871e-a57d-4107-921a-729f9b03ed46",
   "metadata": {},
   "source": [
    "There are 9,724 unique movie IDs."
   ]
  },
  {
   "cell_type": "code",
   "execution_count": 33,
   "id": "2c3a70df-396b-404b-b986-e3d2151b50b4",
   "metadata": {},
   "outputs": [
    {
     "data": {
      "image/png": "[encoded data removed]",
      "text/plain": [
       "<Figure size 600x400 with 1 Axes>"
      ]
     },
     "metadata": {},
     "output_type": "display_data"
    }
   ],
   "source": [
    "plt.figure(figsize=(6, 4))\n",
    "plt.title('Distribution of ratings', fontsize = 12)\n",
    "sns.histplot(data=dataset, x='rating', binwidth=0.5)\n",
    "plt.show()"
   ]
  },
  {
   "cell_type": "markdown",
   "id": "f0db4098-6b1c-44c0-b558-cfc4708afbcb",
   "metadata": {},
   "source": [
    "There are more higher than average ratings. "
   ]
  },
  {
   "cell_type": "code",
   "execution_count": 35,
   "id": "3a0bf04f-484d-436b-a870-37e3db1c4023",
   "metadata": {},
   "outputs": [
    {
     "data": {
      "image/png": "[encoded data removed]",
      "text/plain": [
       "<Figure size 600x400 with 1 Axes>"
      ]
     },
     "metadata": {},
     "output_type": "display_data"
    }
   ],
   "source": [
    "plt.figure(figsize=(6, 4))\n",
    "plt.title('Distribution of userId', fontsize = 12)\n",
    "sns.histplot(data=dataset, x='userId')\n",
    "plt.show()"
   ]
  },
  {
   "cell_type": "markdown",
   "id": "ae03c366-5637-4692-9478-56ea7ee8c2f7",
   "metadata": {},
   "source": [
    "Users with higher sequence of user ID had given more ratings to the movies. "
   ]
  },
  {
   "cell_type": "markdown",
   "id": "88682137-09bc-44e9-ba3d-a887c2910f32",
   "metadata": {},
   "source": [
    "---\n",
    "## 4. <a id='section_4'>Cross Validation</a>\n",
    "\n",
    "Cross Validation allows for comparing multiple models and selecting the one that performs best on average across different data folds. In this case, defualt of 5 fold is used. \n",
    "\n",
    "With k-fold cross validation, the dataset is divided into k equal-sized folds. The model is trained on k-1 folds and evaluated on the remaining fold. This process is repeated k times, with each fold used as the validation set once.\n",
    "\n",
    "Singular Value Decomposition ([SVD](https://surprise.readthedocs.io/en/v1.1.4/matrix_factorization.html#surprise.prediction_algorithms.matrix_factorization.SVD)) and non-negative matrix factorization ([NMF](https://surprise.readthedocs.io/en/v1.1.4/matrix_factorization.html#surprise.prediction_algorithms.matrix_factorization.NMF)) are Matrix Factorization based algorithms. \n",
    "\n",
    "KNN [basic](https://surprise.readthedocs.io/en/v1.1.4/knn_inspired.html#surprise.prediction_algorithms.knns.KNNBasic) and KNN [baseline](https://surprise.readthedocs.io/en/v1.1.4/knn_inspired.html#surprise.prediction_algorithms.knns.KNNBaseline) are variation of KNN algorithms. \n",
    "\n"
   ]
  },
  {
   "cell_type": "code",
   "execution_count": 38,
   "id": "fca85912-e655-4538-b83f-c23862889b33",
   "metadata": {},
   "outputs": [],
   "source": [
    "# find the best model\n",
    "kf = KFold(random_state=0) # folds will be the same for all algorithms, default = 5 \n",
    "\n",
    "algos = (\n",
    "    SVD(),\n",
    "    NMF(),\n",
    "    KNNBasic(),\n",
    "    KNNBaseline(),\n",
    ")\n",
    "\n",
    "algo_dict = {\n",
    "    'SVD': '{}'.format('SVD'),\n",
    "    'NMF': '{}'.format('NMF'),\n",
    "    'KNNBasic': '{}'.format('KNN Basic'),\n",
    "    'KNNBaseline': '{}'.format('KNN Baseline'),\n",
    "}"
   ]
  },
  {
   "cell_type": "code",
   "execution_count": 39,
   "id": "43a1b11b-0cfa-44b5-8a2e-468b2d3b2873",
   "metadata": {},
   "outputs": [
    {
     "name": "stdout",
     "output_type": "stream",
     "text": [
      "Computing the msd similarity matrix...\n",
      "Done computing similarity matrix.\n",
      "Computing the msd similarity matrix...\n",
      "Done computing similarity matrix.\n",
      "Computing the msd similarity matrix...\n",
      "Done computing similarity matrix.\n",
      "Computing the msd similarity matrix...\n",
      "Done computing similarity matrix.\n",
      "Computing the msd similarity matrix...\n",
      "Done computing similarity matrix.\n",
      "Estimating biases using als...\n",
      "Computing the msd similarity matrix...\n",
      "Done computing similarity matrix.\n",
      "Estimating biases using als...\n",
      "Computing the msd similarity matrix...\n",
      "Done computing similarity matrix.\n",
      "Estimating biases using als...\n",
      "Computing the msd similarity matrix...\n",
      "Done computing similarity matrix.\n",
      "Estimating biases using als...\n",
      "Computing the msd similarity matrix...\n",
      "Done computing similarity matrix.\n",
      "Estimating biases using als...\n",
      "Computing the msd similarity matrix...\n",
      "Done computing similarity matrix.\n"
     ]
    }
   ],
   "source": [
    "# create table of metrics\n",
    "\n",
    "table = []\n",
    "for algo in algos:\n",
    "    start = time.time()\n",
    "    out = cross_validate(algo, data, ['rmse', 'mae'], kf) # cross validate using full dataset\n",
    "    cv_time = str(datetime.timedelta(seconds=int(time.time() - start))) # calculate time for validation\n",
    "    model_name = algo_dict[algo.__class__.__name__]\n",
    "    mean_rmse = '{:.3f}'.format(np.mean(out['test_rmse'])) # calculate mean of test_rmse\n",
    "    mean_mae = '{:.3f}'.format(np.mean(out['test_mae'])) # calculate mean of test_mae\n",
    "    new_line = [model_name, mean_rmse, mean_mae, cv_time]\n",
    "    table.append(new_line) # append to list called table"
   ]
  },
  {
   "cell_type": "markdown",
   "id": "a47a28f1-1a06-4144-8408-3935e18bd6ba",
   "metadata": {},
   "source": [
    "Putting the metrics into a table below. "
   ]
  },
  {
   "cell_type": "code",
   "execution_count": 41,
   "id": "dc1b53b4-ed33-45c5-ad54-9e7e187a601c",
   "metadata": {},
   "outputs": [
    {
     "data": {
      "text/html": [
       "<div>\n",
       "<style scoped>\n",
       "    .dataframe tbody tr th:only-of-type {\n",
       "        vertical-align: middle;\n",
       "    }\n",
       "\n",
       "    .dataframe tbody tr th {\n",
       "        vertical-align: top;\n",
       "    }\n",
       "\n",
       "    .dataframe thead th {\n",
       "        text-align: right;\n",
       "    }\n",
       "</style>\n",
       "<table border=\"1\" class=\"dataframe\">\n",
       "  <thead>\n",
       "    <tr style=\"text-align: right;\">\n",
       "      <th></th>\n",
       "      <th>Model</th>\n",
       "      <th>RMSE</th>\n",
       "      <th>MAE</th>\n",
       "      <th>Run Time</th>\n",
       "    </tr>\n",
       "  </thead>\n",
       "  <tbody>\n",
       "    <tr>\n",
       "      <th>0</th>\n",
       "      <td>SVD</td>\n",
       "      <td>0.873</td>\n",
       "      <td>0.671</td>\n",
       "      <td>0:00:09</td>\n",
       "    </tr>\n",
       "    <tr>\n",
       "      <th>1</th>\n",
       "      <td>NMF</td>\n",
       "      <td>0.919</td>\n",
       "      <td>0.704</td>\n",
       "      <td>0:00:15</td>\n",
       "    </tr>\n",
       "    <tr>\n",
       "      <th>2</th>\n",
       "      <td>KNN Basic</td>\n",
       "      <td>0.947</td>\n",
       "      <td>0.726</td>\n",
       "      <td>0:00:08</td>\n",
       "    </tr>\n",
       "    <tr>\n",
       "      <th>3</th>\n",
       "      <td>KNN Baseline</td>\n",
       "      <td>0.875</td>\n",
       "      <td>0.668</td>\n",
       "      <td>0:00:11</td>\n",
       "    </tr>\n",
       "  </tbody>\n",
       "</table>\n",
       "</div>"
      ],
      "text/plain": [
       "          Model   RMSE    MAE Run Time\n",
       "0           SVD  0.873  0.671  0:00:09\n",
       "1           NMF  0.919  0.704  0:00:15\n",
       "2     KNN Basic  0.947  0.726  0:00:08\n",
       "3  KNN Baseline  0.875  0.668  0:00:11"
      ]
     },
     "execution_count": 41,
     "metadata": {},
     "output_type": "execute_result"
    }
   ],
   "source": [
    "# add header to the metrics information\n",
    "metrics_df = pd.DataFrame(table, columns=['Model', 'RMSE', 'MAE', 'Run Time'])\n",
    "# convert metrics to numeric\n",
    "metrics_df['RMSE'] = pd.to_numeric(metrics_df['RMSE'])\n",
    "metrics_df['MAE'] = pd.to_numeric(metrics_df['MAE'])\n",
    "metrics_df"
   ]
  },
  {
   "cell_type": "markdown",
   "id": "787d5104-8dca-4148-8a4f-caae201fc1b4",
   "metadata": {},
   "source": [
    "The RMSE will always be larger or equal to the MAE. The greater difference between them, the greater the variance in the individual errors in the sample. \n",
    "\n",
    "Both the MAE and RMSE are negatively-oriented scores meaning the lower values are better."
   ]
  },
  {
   "cell_type": "code",
   "execution_count": 43,
   "id": "69483eab-b97b-4b46-bcfd-691febddd2e0",
   "metadata": {},
   "outputs": [
    {
     "data": {
      "image/png": "[encoded data removed]",
      "text/plain": [
       "<Figure size 800x400 with 1 Axes>"
      ]
     },
     "metadata": {},
     "output_type": "display_data"
    }
   ],
   "source": [
    "# plot RMSE and MAE for visualisation\n",
    "plt.figure(figsize=(8, 4))\n",
    "sns.lineplot(x='Model', y='RMSE', data=metrics_df, marker='o')\n",
    "sns.lineplot(x='Model', y='MAE', data=metrics_df, marker='X')\n",
    "plt.xlabel('Models')\n",
    "plt.ylabel('Values')\n",
    "plt.title('Comparison of metrics from cross validation')\n",
    "plt.legend(['RMSE', 'MAE'], loc='center')\n",
    "plt.grid(True)\n",
    "plt.show()"
   ]
  },
  {
   "cell_type": "markdown",
   "id": "2c5b4518-c949-4fa9-aef0-8b3970ff7a6b",
   "metadata": {},
   "source": [
    "SVD has produced better RMSE and MAE than the rest. "
   ]
  },
  {
   "cell_type": "markdown",
   "id": "2047bfe6-974c-408a-86ad-fd0175de3ec6",
   "metadata": {},
   "source": [
    "---\n"
   ]
  },
  {
   "cell_type": "markdown",
   "id": "b461e205-525b-4cf8-be1e-eccb674bcba0",
   "metadata": {},
   "source": [
    "## 5. <a id=\"section_5\">Hyperparameters Tuning</a>\n",
    "\n",
    "**SVD** extracts features and correlation from the user-item matrix. For example, when items are movies in different categories. **SVD** would generate factors when looking into the dimension space like action vs comedy, Hollywood vs Bollywood, or Marvel vs Disney.\n",
    "\n",
    "**SVD** constructs a matrix with the row of users and columns of items and the elements are given by the users’ ratings. **SVD** decomposes a matrix into three other matrices and extracts the factors from the factorization of a high-level (user-item-rating) matrix.\n",
    "\n",
    "Source: [TowardsDataScience](https://towardsdatascience.com/recommender-system-singular-value-decomposition-svd-truncated-svd-97096338f361#)\n",
    "\n",
    "\r\n",
    "n_epochs – The number of iteration of the SGD procedure. Default is 20.\r\n",
    "\r\n",
    "lr_all – The learning rate for all parameters. Default is 0.005.\r\n",
    "\r\n",
    "reg_all – The regularization term for all parameters. Default is 0.02.\n"
   ]
  },
  {
   "cell_type": "code",
   "execution_count": 47,
   "id": "315a02a8-f03b-4e59-b157-1f5d1a6e4042",
   "metadata": {},
   "outputs": [],
   "source": [
    "# search for best parameters\n",
    "params = {'n_epochs': [5, 10, 20], 'lr_all': [0.002, 0.005, 0.008], 'reg_all': [0.2, 0.4, 0.6]}\n",
    "\n",
    "gs = GridSearchCV(SVD, params, measures=['rmse', 'mae'], cv=10)\n",
    "gs.fit(data)"
   ]
  },
  {
   "cell_type": "code",
   "execution_count": 48,
   "id": "c0c82fba-16f2-4333-96df-5a986a6cca9c",
   "metadata": {},
   "outputs": [
    {
     "name": "stdout",
     "output_type": "stream",
     "text": [
      "Best RMSE: 0.8689431318342009\n",
      "Best MAE: 0.668642459959168\n",
      "Best Parameters: {'n_epochs': 20, 'lr_all': 0.008, 'reg_all': 0.2}\n"
     ]
    }
   ],
   "source": [
    "# print the best parameters\n",
    "results_df = pd.DataFrame.from_dict(gs.cv_results)\n",
    "print(f\"Best RMSE: {gs.best_score['rmse']}\")\n",
    "print(f\"Best MAE: {gs.best_score['mae']}\")\n",
    "print(f\"Best Parameters: {gs.best_params['rmse']}\")"
   ]
  },
  {
   "cell_type": "markdown",
   "id": "e95aaab5-c3b9-45c1-a749-57429f9fb1cc",
   "metadata": {},
   "source": [
    "## 6. <a id=\"section_6\">Preparing for inference</a>"
   ]
  },
  {
   "cell_type": "markdown",
   "id": "a1761009-c3dc-4b82-9ef4-6d6a14ddc37b",
   "metadata": {},
   "source": [
    "Since the best model is **SVD**, use this model to recommend movies for a user. "
   ]
  },
  {
   "cell_type": "markdown",
   "id": "bcaac91b-01c3-424d-a346-143c86e697a4",
   "metadata": {},
   "source": [
    "**data.build_full_trainset()**: \n",
    "\n",
    "This method builds a recommendation dataset from all data, including the entire user and item rating data, so that you can train a model using all data.\n",
    "\n",
    "**trainset.build_anti_testset()**: \n",
    "\n",
    "This method builds a dataset of user-item pairs that have not yet been rated. In other words, it is a dataset for making predictions for items that users have not yet rated. It is used by the recommendation engine to predict what ratings to give for items whose rating values ​​are unknown.\n",
    "\n",
    "An anti-test set is a collection of items that a user has not rated. It's used to evaluate a recommendation system's ability to predict items a user might like based on their existing ratings."
   ]
  },
  {
   "cell_type": "code",
   "execution_count": 52,
   "id": "84aa9612-d396-4afe-987c-825dc1406792",
   "metadata": {},
   "outputs": [],
   "source": [
    "# create train test sets\n",
    "trainset = data.build_full_trainset()\n",
    "testset = trainset.build_anti_testset()"
   ]
  },
  {
   "cell_type": "code",
   "execution_count": 53,
   "id": "5cc922d4-8d8c-4d4d-8ec9-a3189f2ce323",
   "metadata": {},
   "outputs": [],
   "source": [
    "# initiate model with suggest paramters\n",
    "model = SVD(n_epochs = 20, lr_all = 0.008, reg_all = 0.2)\n",
    "\n",
    "model.fit(trainset)\n",
    "# estimate ratings for all userId-movieId pairs that are NOT in the training set\n",
    "predictions = model.test(testset)"
   ]
  },
  {
   "cell_type": "code",
   "execution_count": 54,
   "id": "4c4a2400-a28a-4263-9dca-d19e026a37d3",
   "metadata": {},
   "outputs": [],
   "source": [
    "# define a function to extract top 10 movies recommendation for all users\n",
    "def get_top_n(predictions, n=10): \n",
    "    top_n = defaultdict(list) # initialise empty dictionary to store user-item pairs\n",
    "    for uid, iid, true_r, est, _ in predictions:\n",
    "        top_n[uid].append((iid, est)) # append item ID and estiamted rating to top_n\n",
    "    for uid, user_ratings in top_n.items():\n",
    "        user_ratings.sort(key=lambda x: x[1], reverse= True) # sort the list of tuples by estimated rating in descending order\n",
    "        top_n[uid] = user_ratings[:n] # keep the top n items for each user \n",
    "    return top_n"
   ]
  },
  {
   "cell_type": "code",
   "execution_count": 55,
   "id": "b1f9c567-cf0b-4837-afb5-b37a48b7fe2e",
   "metadata": {},
   "outputs": [],
   "source": [
    "# prepare list of recommendations for each user ID\n",
    "top_n = get_top_n(predictions, n=10)"
   ]
  },
  {
   "cell_type": "code",
   "execution_count": 56,
   "id": "39d777b3-a2b6-4a25-99d6-054e75f13da9",
   "metadata": {},
   "outputs": [],
   "source": [
    "# define a function to extract the list of recomendation for a user\n",
    "def recommend_for_user(user_id):\n",
    "    if user_id in top_n:\n",
    "        if user_id in top_n:\n",
    "            movie_ids = top_n[user_id][:10] # get top 10 for a given user\n",
    "        else:\n",
    "            movie_ids = []  # handle case where user ID is not found\n",
    "        recommend_list = [item[0] for item in movie_ids]\n",
    "        movie_titles = movies_df[movies_df['movieId'].isin(recommend_list)]['title'].tolist() # extract movie titles\n",
    "        output_string = '' # create empty string to store final output\n",
    "        output_string += '\\n'.join(movie_titles) # # construct multi-line list of movies\n",
    "        return output_string\n",
    "    else:\n",
    "        return 'No such user' # handle case where user ID is not found"
   ]
  },
  {
   "cell_type": "code",
   "execution_count": 57,
   "id": "9f67435d-9965-4dbe-8dc9-738b2158f384",
   "metadata": {},
   "outputs": [
    {
     "name": "stdin",
     "output_type": "stream",
     "text": [
      "Enter User ID:  5\n"
     ]
    },
    {
     "data": {
      "text/plain": [
       "\"Dr. Strangelove or: How I Learned to Stop Worrying and Love the Bomb (1964)\\nHis Girl Friday (1940)\\nSecrets & Lies (1996)\\nStreetcar Named Desire, A (1951)\\nPaths of Glory (1957)\\nRan (1985)\\nTouch of Evil (1958)\\nGuess Who's Coming to Dinner (1967)\\nDay of the Doctor, The (2013)\\nThree Billboards Outside Ebbing, Missouri (2017)\""
      ]
     },
     "execution_count": 57,
     "metadata": {},
     "output_type": "execute_result"
    }
   ],
   "source": [
    "# test if the inference works before passing to Gradio interface\n",
    "user_id = int(input('Enter User ID: '))\n",
    "recommend_for_user(user_id)"
   ]
  },
  {
   "cell_type": "markdown",
   "id": "53f91193-342b-4f0c-bef3-78912e52fbe6",
   "metadata": {},
   "source": [
    "## 7. <a id=\"section_7\">Create Gradio interface</a>"
   ]
  },
  {
   "cell_type": "code",
   "execution_count": 59,
   "id": "0cdc0188-d550-45c7-b2f6-ddf13de257f8",
   "metadata": {},
   "outputs": [
    {
     "name": "stdout",
     "output_type": "stream",
     "text": [
      "Running on local URL:  http://127.0.0.1:7860\n",
      "Running on public URL: https://1815cad2f5ecb6f6dc.gradio.live\n",
      "\n",
      "This share link expires in 72 hours. For free permanent hosting and GPU upgrades, run `gradio deploy` from Terminal to deploy to Spaces (https://huggingface.co/spaces)\n"
     ]
    },
    {
     "data": {
      "text/html": [
       "<div><iframe src=\"https://1815cad2f5ecb6f6dc.gradio.live\" width=\"100%\" height=\"500\" allow=\"autoplay; camera; microphone; clipboard-read; clipboard-write;\" frameborder=\"0\" allowfullscreen></iframe></div>"
      ],
      "text/plain": [
       "<IPython.core.display.HTML object>"
      ]
     },
     "metadata": {},
     "output_type": "display_data"
    }
   ],
   "source": [
    "interface = gr.Interface(\n",
    "    fn = recommend_for_user,\n",
    "    inputs = gr.Number(label='User ID'),\n",
    "    outputs = gr.Text(label='Recomendations'),\n",
    "    title = 'Movie Recommendation based on user',\n",
    "    description = '\\(^-^)/ Enter a user ID between 1 and 610. This model will recommend 10 movies for this user.'\n",
    ")\n",
    "\n",
    "# launch interface\n",
    "if __name__ == '__main__':\n",
    "    interface.launch(share=True)"
   ]
  },
  {
   "cell_type": "markdown",
   "id": "1a80f09c-2957-48b8-a7db-ac8665fd72cc",
   "metadata": {},
   "source": [
    "---\n",
    "## 8. <a id=\"section_8\">Conclusion</a>\n",
    "\n",
    "A **Collaborative Filtering** recommndation system for any products and services can be build using **Surprise** if data can be structured into user ID, item ID and rating. \n",
    "\n",
    "The advantages of using **Surprise** are the availability of tools to *evaluate, analyze and compare performance* of various *algorithms* in it's library. \n",
    "\n",
    "---"
   ]
  }
 ],
 "metadata": {
  "kernelspec": {
   "display_name": "Python 3 (ipykernel)",
   "language": "python",
   "name": "python3"
  },
  "language_info": {
   "codemirror_mode": {
    "name": "ipython",
    "version": 3
   },
   "file_extension": ".py",
   "mimetype": "text/x-python",
   "name": "python",
   "nbconvert_exporter": "python",
   "pygments_lexer": "ipython3",
   "version": "3.11.7"
  }
 },
 "nbformat": 4,
 "nbformat_minor": 5
}
